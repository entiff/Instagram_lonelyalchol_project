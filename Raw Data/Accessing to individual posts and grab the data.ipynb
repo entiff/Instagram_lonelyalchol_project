{
 "cells": [
  {
   "cell_type": "code",
   "execution_count": 1,
   "metadata": {},
   "outputs": [],
   "source": [
    "#필요한 modules\n",
    "from IPython.display import Image, display, HTML\n",
    "import time\n",
    "from selenium import webdriver\n",
    "from selenium.webdriver.common.keys import Keys\n",
    "from bs4 import BeautifulSoup\n",
    "import requests\n",
    "import os\n",
    "from datetime import datetime\n",
    "import pandas as pd\n",
    "import selenium.webdriver as webdriver\n",
    "import selenium.webdriver.support.ui as ui\n",
    "from selenium.webdriver.common.keys import Keys\n",
    "from time import sleep\n",
    "from multiprocessing import Process\n",
    "from multiprocessing import Pool\n",
    "os.chdir(\"C:/Users/Lab_/Desktop/crawling\") #디렉토리 설정"
   ]
  },
  {
   "cell_type": "code",
   "execution_count": 2,
   "metadata": {},
   "outputs": [
    {
     "name": "stdout",
     "output_type": "stream",
     "text": [
      "User-Agent:  Mozilla/5.0 (Macintosh; Intel Mac OS X 10_12_6) AppleWebKit/537.36 (KHTML, like Gecko) Chrome/61.0.3163.100 Safari/537.36\n",
      "Plugin length:  0\n",
      "languages:  ko-KR\n",
      "WebGL Vendor:  Google Inc.\n",
      "WebGL Renderer:  Google SwiftShader\n"
     ]
    }
   ],
   "source": [
    "#Setting options on driver that I use\n",
    "\n",
    "TEST_URL = 'https://intoli.com/blog/making-chrome-headless-undetectable/chrome-headless-test.html'\n",
    "\n",
    "options = webdriver.ChromeOptions()\n",
    "options.add_argument('headless')\n",
    "options.add_argument('window-size=1920x1080')\n",
    "options.add_argument(\"disable-gpu\")\n",
    "options.add_argument(\"user-agent=Mozilla/5.0 (Macintosh; Intel Mac OS X 10_12_6) AppleWebKit/537.36 (KHTML, like Gecko) Chrome/61.0.3163.100 Safari/537.36\")\n",
    "options.add_argument(\"lang=ko_KR\") # 한국어!\n",
    "driver = webdriver.Chrome('chromedriver', chrome_options=options)\n",
    "\n",
    "driver.get(TEST_URL)\n",
    "driver.execute_script(\"Object.defineProperty(navigator, 'plugins', {get: function() {return[1, 2, 3, 4, 5]}})\")\n",
    "driver.execute_script(\"Object.defineProperty(navigator, 'languages', {get: function() {return ['ko-KR', 'ko']}})\")\n",
    "driver.execute_script(\"const getParameter = WebGLRenderingContext.getParameter;WebGLRenderingContext.prototype.getParameter = function(parameter) {if (parameter === 37445) {return 'NVIDIA Corporation'} if (parameter === 37446) {return 'NVIDIA GeForce GTX 980 Ti OpenGL Engine';}return getParameter(parameter);};\")\n",
    "\n",
    "user_agent = driver.find_element_by_css_selector('#user-agent').text\n",
    "plugins_length = driver.find_element_by_css_selector('#plugins-length').text\n",
    "languages = driver.find_element_by_css_selector('#languages').text\n",
    "webgl_vendor = driver.find_element_by_css_selector('#webgl-vendor').text\n",
    "webgl_renderer = driver.find_element_by_css_selector('#webgl-renderer').text\n",
    "\n",
    "print('User-Agent: ', user_agent)\n",
    "print('Plugin length: ', plugins_length)\n",
    "print('languages: ', languages)\n",
    "print('WebGL Vendor: ', webgl_vendor)\n",
    "print('WebGL Renderer: ', webgl_renderer)"
   ]
  },
  {
   "cell_type": "code",
   "execution_count": 8,
   "metadata": {},
   "outputs": [],
   "source": [
    "f = open(\"C:/Users/Lab_/Desktop/crawling/total_link_set2.txt\", 'r')\n",
    "a = f.readlines()"
   ]
  },
  {
   "cell_type": "code",
   "execution_count": 9,
   "metadata": {},
   "outputs": [],
   "source": [
    "b = []\n",
    "for i in a:\n",
    "    j = i.replace(\"\\n\", \"\")\n",
    "    b.append(j)"
   ]
  },
  {
   "cell_type": "code",
   "execution_count": 10,
   "metadata": {},
   "outputs": [],
   "source": [
    "total_link = b\n",
    "total_link = total_link[50005:60006]"
   ]
  },
  {
   "cell_type": "code",
   "execution_count": 11,
   "metadata": {},
   "outputs": [
    {
     "data": {
      "text/plain": [
       "10001"
      ]
     },
     "execution_count": 11,
     "metadata": {},
     "output_type": "execute_result"
    }
   ],
   "source": [
    "len(total_link)"
   ]
  },
  {
   "cell_type": "code",
   "execution_count": 12,
   "metadata": {},
   "outputs": [
    {
     "name": "stdout",
     "output_type": "stream",
     "text": [
      "We are doing great!\n",
      "We are doing great!\n",
      "FLUSHED, LET'S RESTART16개 파일 생성\n",
      "Finished, Farewell...\n",
      "12445.00579714775\n"
     ]
    }
   ],
   "source": [
    "# Get scroll height\n",
    "start_time = time.time()\n",
    "number = 16\n",
    "total_id = []\n",
    "total_text = []\n",
    "total_tag = []\n",
    "total_pic = []\n",
    "total_time = []\n",
    "total_num = 0\n",
    "\n",
    "\n",
    "\n",
    "for link in total_link:\n",
    "    try:\n",
    "        driver.get(\"https://www.instagram.com\"+link)\n",
    "            \n",
    "        html_inside = driver.page_source\n",
    "        soup_inside = BeautifulSoup(html_inside, 'html.parser')    \n",
    "                \n",
    "        Content = soup_inside.select(\n",
    "            'li._ezgzd')\n",
    "            \n",
    "        Times = soup_inside.select(\n",
    "            'time._p29ma')\n",
    "            \n",
    "            \n",
    "        #ID Section\n",
    "        ID = (Content[0].find('a', class_='_2g7d5'))\n",
    "        total_id.append(ID[\"title\"])\n",
    "        if len(total_id) == 2500 or len(total_id) == 7500:\n",
    "            print(\"We are doing great!\")\n",
    "        \n",
    "        #Date Section\n",
    "        Time = Times[0][\"datetime\"]\n",
    "        total_time.append(Time)\n",
    "            \n",
    "        #TAGS & TEXT\n",
    "        TAGS_TXT = Content[0].find('span')      \n",
    "        TXTS = TAGS_TXT.findAll('span')\n",
    "                \n",
    "        #TEXTS\n",
    "        TXTS_list = []\n",
    "        for i in TXTS:\n",
    "            if i.text != \" \":\n",
    "                TXTS_list.append(i.text)\n",
    "            \n",
    "        TXT = \" \".join(TXTS_list)\n",
    "        total_text.append(TXT)\n",
    "                \n",
    "        #print(TXT)\n",
    "                \n",
    "        #TAGS\n",
    "        TAGS = TAGS_TXT.findAll('a')\n",
    "        TAGS_list = []\n",
    "        for TAG in TAGS:\n",
    "            TAGS_list.append(TAG.text)\n",
    "        total_tag.append(TAGS_list)\n",
    "        #print(TAGS_list)\n",
    "                \n",
    "        #PICTURE\n",
    "        Picture = soup_inside.select(\n",
    "            \"img\")\n",
    "        total_pic.append(Picture[1]['src'])\n",
    "        #print(Picture[1]['src'])\n",
    "        \n",
    "        \n",
    "    except:\n",
    "        continue\n",
    "        \n",
    "    if len(total_time) == 10001:\n",
    "            #만개가 넘어가면 엑셀로 반출하고 안에 있는 리스트 초기화\n",
    "            total_num += len(total_id)\n",
    "            df = pd.DataFrame({'PIC': total_pic,\n",
    "                               'TEXT':total_text,\n",
    "                               'TAGS':total_tag,\n",
    "                               'ID': total_id,\n",
    "                               'TIME': total_time\n",
    "                                })\n",
    "\n",
    "            df.to_excel('instagram_soldrink_' + str(number) + '.xlsx', sheet_name = 'sheet')\n",
    "\n",
    "            total_id = []\n",
    "            total_text = []\n",
    "            total_tag = []\n",
    "            total_pic = []\n",
    "            total_time = []\n",
    "            print(\"FLUSHED, LET'S RESTART\" + str(number) + '개 파일 생성')\n",
    "            number += 1\n",
    "    if number == 16 and link == total_link[-1]:\n",
    "        total_num += len(total_id)\n",
    "        df = pd.DataFrame({'PIC': total_pic,\n",
    "                           'TEXT':total_text,\n",
    "                           'TAGS':total_tag,\n",
    "                           'ID': total_id,\n",
    "                           'TIME': total_time\n",
    "                            })\n",
    "\n",
    "        df.to_excel('instagram_soldrink_' + str(number) + '.xlsx', sheet_name = 'sheet')\n",
    "\n",
    "        \n",
    "        print(\"FLUSHED, LET'S RESTART\" + str(number) + '개 파일 생성')\n",
    "        print(\"Finished, Farewell...\")\n",
    "        break      \n",
    "            \n",
    "end_time = time.time()\n",
    "print(end_time - start_time)"
   ]
  },
  {
   "cell_type": "code",
   "execution_count": null,
   "metadata": {},
   "outputs": [],
   "source": []
  },
  {
   "cell_type": "code",
   "execution_count": null,
   "metadata": {},
   "outputs": [],
   "source": []
  }
 ],
 "metadata": {
  "kernelspec": {
   "display_name": "Python 3",
   "language": "python",
   "name": "python3"
  },
  "language_info": {
   "codemirror_mode": {
    "name": "ipython",
    "version": 3
   },
   "file_extension": ".py",
   "mimetype": "text/x-python",
   "name": "python",
   "nbconvert_exporter": "python",
   "pygments_lexer": "ipython3",
   "version": "3.6.4"
  }
 },
 "nbformat": 4,
 "nbformat_minor": 2
}
